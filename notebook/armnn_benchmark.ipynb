{
 "cells": [
  {
   "cell_type": "markdown",
   "id": "3478c654",
   "metadata": {},
   "source": [
    "# MediaTek Genio AI 開發指南-1：TensorFlow Lite 模型效能測試\n",
    "\n",
    "## 🎯 關於這個筆記本\n",
    "這是一個完整的教學範例，教您如何在 MediaTek Genio SoC（系統晶片）上使用 ArmNN 運行 AI 模型，並測量其效能。\n",
    "\n",
    "## 📚 背景知識：\n",
    "- **TensorFlow Lite**：Google 開發的輕量級 AI 推論框架，專為手機、嵌入式裝置設計，支援`.tflite`格式的AI模型。\n",
    "- **ArmNN**：Arm 公司開發的神經網路推論引擎，可以加速推論框架背景的 AI計算工作\n",
    "- **MediaTek Genio SoC**：聯發科的 AI 處理器，內建與ArmNN相容的 Cortex-A CPU、Mali-GPU\n",
    "\n",
    "## 📋 您將學會：\n",
    "- 如何透過TFLite Runtime載入和配置 AI 模型\n",
    "- 如何使用 ArmNN於GPU 或 CPU 上進行 AI 推論加速\n",
    "- 如何測量 AI 模型的執行速度和記憶體使用量\n",
    "- 如何將這些技術整合到您的應用程式中"
   ]
  },
  {
   "cell_type": "markdown",
   "id": "29a4991a",
   "metadata": {},
   "source": [
    "## 1. 環境設置\n",
    "\n",
    "我們需要切換到專案的根目錄，這樣程式才能找到模型檔案和其他必要的資源。"
   ]
  },
  {
   "cell_type": "code",
   "execution_count": null,
   "id": "3dcd8bee-7d7c-47a1-961a-170560b2cb28",
   "metadata": {},
   "outputs": [],
   "source": [
    "% cd .."
   ]
  },
  {
   "cell_type": "markdown",
   "id": "500b62e2",
   "metadata": {},
   "source": [
    "## 2. 匯入必要程式庫\n",
    "\n",
    "載入Tensorflow及 Python 程式庫來處理 AI 推論的工作流程。"
   ]
  },
  {
   "cell_type": "code",
   "execution_count": null,
   "id": "7d29c8be",
   "metadata": {},
   "outputs": [],
   "source": [
    "import time, warnings, psutil, os\n",
    "import numpy as np\n",
    "import tensorflow as tf\n",
    "from tqdm import tqdm\n",
    "warnings.simplefilter('ignore')\n",
    "\n",
    "print(f\"TensorFlow 版本: {tf.__version__}\")\n",
    "print(f\"NumPy 版本: {np.__version__}\")"
   ]
  },
  {
   "cell_type": "markdown",
   "id": "11b02a79",
   "metadata": {},
   "source": [
    "## 3. 設定測試參數\n",
    "\n",
    "根據您的環境及測試需求，設定要使用的加速器、AI模型以及ArmNN。\n",
    "- **device**：加速器類型，可選擇 'CpuAcc' 或 'GpuAcc'\n",
    "- **library_path**：ArmNN delegate 程式庫路徑\n",
    "- **tflite_path**：TensorFlow Lite 模型檔案路徑"
   ]
  },
  {
   "cell_type": "code",
   "execution_count": null,
   "id": "be7ccd37",
   "metadata": {},
   "outputs": [],
   "source": [
    "device = 'GpuAcc'\n",
    "tflite_path = \"models/yolov8n_float32.tflite\"\n",
    "library_path = \"/ArmNN-linux-aarch64/libarmnnDelegate.so\""
   ]
  },
  {
   "cell_type": "markdown",
   "id": "2c99be2e",
   "metadata": {},
   "source": [
    "## 4. 載入 ArmNN Delegate\n",
    "\n",
    "載入 ArmNN 加速器來提升 AI 模型推論速度。\n",
    "1. 載入 ArmNN delegate 程式庫\n",
    "2. 設定使用的運算後端（CPU 或 GPU）\n",
    "3. 配置日誌級別以控制輸出訊息"
   ]
  },
  {
   "cell_type": "code",
   "execution_count": null,
   "id": "60221feb",
   "metadata": {},
   "outputs": [],
   "source": [
    "armnn_delegate = tf.lite.experimental.load_delegate(\n",
    "    library=library_path,\n",
    "    options={\"backends\": device, \"logging-severity\": \"fatal\"}\n",
    ")\n",
    "print(\"✅ ArmNN delegate 載入成功！\")\n",
    "print(f\"🚀 使用後端: {device}\")"
   ]
  },
  {
   "cell_type": "markdown",
   "id": "4e844b98",
   "metadata": {},
   "source": [
    "## 5. 初始化 TensorFlow Lite 解釋器\n",
    "\n",
    "建立 TensorFlow Lite 解釋器並配置 AI 模型。\n",
    "1. 載入 .tflite 模型檔案並綁定 ArmNN 加速器\n",
    "2. 分配模型所需的記憶體空間\n",
    "3. 取得模型的輸入和輸出資訊"
   ]
  },
  {
   "cell_type": "code",
   "execution_count": null,
   "id": "0f238f15",
   "metadata": {},
   "outputs": [],
   "source": [
    "interpreter = tf.lite.Interpreter(\n",
    "    model_path=tflite_path, \n",
    "    experimental_delegates=[armnn_delegate]\n",
    ")\n",
    "interpreter.allocate_tensors()\n",
    "input_details = interpreter.get_input_details()\n",
    "output_details = interpreter.get_output_details()\n",
    "\n",
    "print(f\"✅ 模型載入成功！\")\n",
    "print(f\"輸入張量形狀: {input_details[0]['shape']}\")\n",
    "print(f\"輸入資料型態: {input_details[0]['dtype']}\")\n",
    "print(f\"輸出張量形狀: {output_details[0]['shape']}\")"
   ]
  },
  {
   "cell_type": "markdown",
   "id": "0f28ed52",
   "metadata": {},
   "source": [
    "## 6. 準備輸入資料\n",
    "\n",
    "為 AI 模型準備測試用的輸入資料。\n",
    "1. 根據模型要求的形狀產生隨機數字陣列\n",
    "2. 轉換資料型態以符合模型規格\n",
    "3. 將準備好的資料送入模型"
   ]
  },
  {
   "cell_type": "code",
   "execution_count": null,
   "id": "3a1297cf",
   "metadata": {},
   "outputs": [],
   "source": [
    "inputs = np.random.rand(*input_details[0]['shape']).astype(input_details[0]['dtype'])\n",
    "\n",
    "print(\"✅ 輸入資料準備完成！\")\n",
    "print(f\"輸入資料形狀: {inputs.shape}\")\n",
    "print(f\"輸入資料型態: {inputs.dtype}\")\n",
    "\n",
    "interpreter.set_tensor(input_details[0]['index'], inputs)"
   ]
  },
  {
   "cell_type": "markdown",
   "id": "989f8bea",
   "metadata": {},
   "source": [
    "## 7. 執行推論測試\n",
    "\n",
    "重複執行多次 AI 推論並測量效能。\n",
    "1. 使用 tqdm 進度條執行指定次數的推論\n",
    "2. 記錄推論的開始和結束時間\n",
    "3. 取得模型的輸出結果"
   ]
  },
  {
   "cell_type": "code",
   "execution_count": null,
   "id": "f4ff612f",
   "metadata": {},
   "outputs": [],
   "source": [
    "iteration = 10\n",
    "print(f\"開始執行 {iteration} 次推論測試...\")\n",
    "inference_start_time = time.time()\n",
    "\n",
    "for i in tqdm(range(iteration), desc=\"推論進度\", unit=\"次\"):\n",
    "    interpreter.invoke()\n",
    "\n",
    "inference_end_time = time.time()\n",
    "outputs = interpreter.get_tensor(output_details[0]['index'])"
   ]
  },
  {
   "cell_type": "markdown",
   "id": "2ff5f194",
   "metadata": {},
   "source": [
    "## 8. 顯示測試結果\n",
    "\n",
    "計算並顯示 AI 模型的效能指標。\n",
    "1. 計算平均單次推論時間（毫秒）\n",
    "2. 計算推論吞吐量（每秒處理次數）\n",
    "3. 以表格格式顯示完整的效能報告"
   ]
  },
  {
   "cell_type": "code",
   "execution_count": null,
   "id": "8b6223d3",
   "metadata": {},
   "outputs": [],
   "source": [
    "total_inference_time = inference_end_time - inference_start_time\n",
    "avg_inference_time_ms = total_inference_time * 1000 / iteration\n",
    "\n",
    "print('=' * 50)\n",
    "print('TensorFlow Lite 模型效能測試結果')\n",
    "print('=' * 50)\n",
    "print(f'單次推論時間: {avg_inference_time_ms:.2f} ms')\n",
    "print(f'推論吞吐量: {1000 / avg_inference_time_ms:.2f} FPS')\n",
    "print('=' * 50)"
   ]
  },
  {
   "cell_type": "markdown",
   "id": "17a375ec",
   "metadata": {},
   "source": [
    "## 9. 整合到實際應用\n",
    "\n",
    "您可以參考以下的程式範例，將ArmNN加速方案整合到您的AI工作流程中。\n",
    "\n",
    "```python\n",
    "import tensorflow as tf\n",
    "\n",
    "interpreter = tf.lite.Interpreter(\n",
    "    model_path=\"<path to your tflite model>\",\n",
    "    experimental_delegates=[\n",
    "        armnn_delegate = tf.lite.experimental.load_delegate(\n",
    "            library=\"<path to libarmnnDelegate.so>\",\n",
    "            options={\"backends\": \"<CpuAcc or GpuAcc>\", \"logging-severity\": \"fatal\"}\n",
    "        )\n",
    "    ]\n",
    ")\n",
    "interpreter.allocate_tensors()\n",
    "input_details = interpreter.get_input_details()\n",
    "output_details = interpreter.get_output_details()\n",
    "\n",
    "interpreter.set_tensor(input_details[0]['index'], input_data)\n",
    "interpreter.invoke()\n",
    "output = interpreter.get_tensor(output_details[0]['index'])\n",
    "```"
   ]
  },
  {
   "cell_type": "code",
   "execution_count": null,
   "id": "4b846596",
   "metadata": {},
   "outputs": [],
   "source": []
  }
 ],
 "metadata": {
  "kernelspec": {
   "display_name": "Python 3",
   "language": "python",
   "name": "python3"
  },
  "language_info": {
   "codemirror_mode": {
    "name": "ipython",
    "version": 3
   },
   "file_extension": ".py",
   "mimetype": "text/x-python",
   "name": "python",
   "nbconvert_exporter": "python",
   "pygments_lexer": "ipython3",
   "version": "3.8.18"
  }
 },
 "nbformat": 4,
 "nbformat_minor": 5
}
